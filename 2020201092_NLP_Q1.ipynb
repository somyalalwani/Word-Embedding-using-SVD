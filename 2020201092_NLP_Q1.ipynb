{
 "cells": [
  {
   "cell_type": "markdown",
   "metadata": {
    "id": "5jVS1Dne54vf"
   },
   "source": [
    "# **Implement a Word embedding model and train your own word vectors using Co-Occurrence Matrix by applying Singular Value Decomposition (SVD).**"
   ]
  },
  {
   "cell_type": "markdown",
   "metadata": {
    "id": "xBp9VunSjQfC"
   },
   "source": [
    "## IMPORTING LIBRARIES\n"
   ]
  },
  {
   "cell_type": "code",
   "execution_count": 1,
   "metadata": {
    "colab": {
     "base_uri": "https://localhost:8080/"
    },
    "id": "16I8eEaijTBR",
    "outputId": "cdeb597c-4757-4752-b4b5-03fa66272881"
   },
   "outputs": [
    {
     "name": "stdout",
     "output_type": "stream",
     "text": [
      "Mounted at /content/drive\n",
      "[nltk_data] Downloading package punkt to /root/nltk_data...\n",
      "[nltk_data]   Unzipping tokenizers/punkt.zip.\n"
     ]
    }
   ],
   "source": [
    "import gzip\n",
    "import shutil\n",
    "from heapq import nlargest\n",
    "from google.colab import drive\n",
    "drive.mount('/content/drive')\n",
    "\n",
    "import json, ast, re, os, nltk\n",
    "\n",
    "nltk.download('punkt')\n",
    "from operator import itemgetter\n",
    "import operator\n",
    "from keras.preprocessing.text import Tokenizer\n",
    "\n",
    "import warnings\n",
    "warnings.filterwarnings(\"ignore\")\n",
    "import pickle\n",
    "from scipy.sparse import dok_matrix\n",
    "from sklearn.utils.extmath import randomized_svd\n",
    "from scipy import spatial\n",
    "from sklearn.manifold import TSNE\n",
    "import matplotlib.pyplot as plt\n",
    "import gensim.downloader"
   ]
  },
  {
   "cell_type": "markdown",
   "metadata": {
    "id": "ugrOxZAkjT7E"
   },
   "source": [
    "## GETTING DATA"
   ]
  },
  {
   "cell_type": "code",
   "execution_count": 6,
   "metadata": {
    "id": "_uwPpvbFjUin"
   },
   "outputs": [],
   "source": [
    "def get_data():    \n",
    "  with gzip.open('drive/MyDrive/reviews_Electronics_5.json.gz', 'rb') as f_in:\n",
    "      with open('Electronics_5.json', 'wb') as f_out:\n",
    "          shutil.copyfileobj(f_in, f_out)\n",
    "  raw_text=[]\n",
    "\n",
    "  f = open('Electronics_5.json',)\n",
    "\n",
    "  for line in f:\n",
    "    res = ast.literal_eval(line)\n",
    "    raw_text.append(res[\"reviewText\"].lower())\n",
    "\n",
    "  f.close()\n",
    "  return raw_text"
   ]
  },
  {
   "cell_type": "code",
   "execution_count": 7,
   "metadata": {
    "id": "zcyzq3csspkE"
   },
   "outputs": [],
   "source": [
    "raw_text = get_data()"
   ]
  },
  {
   "cell_type": "code",
   "execution_count": 8,
   "metadata": {
    "id": "Qgr7S0bTyrOF"
   },
   "outputs": [],
   "source": [
    "os.remove(\"Electronics_5.json\")"
   ]
  },
  {
   "cell_type": "markdown",
   "metadata": {
    "id": "QLx93alp4w-H"
   },
   "source": [
    "## PRE-PROCESSING DATA"
   ]
  },
  {
   "cell_type": "code",
   "execution_count": 9,
   "metadata": {
    "id": "r4zx1BuiDNyn"
   },
   "outputs": [],
   "source": [
    "def raw_text_to_sentences(raw_text):\n",
    "  d={}\n",
    "  word_count=1\n",
    "  f= open(\"sentence_file.txt\",\"x\")\n",
    "  f.close()\n",
    "  f = open(\"sentence_file.txt\",\"w\" )\n",
    "  for para in raw_text:\n",
    "    nltk_tokens = nltk.sent_tokenize(para)\n",
    "    for words in nltk_tokens:\n",
    "      sent = re.findall(\"[A-Za-z]+\", words)\n",
    "      line = \"\"\n",
    "      for word in sent:\n",
    "        line = line + ' ' + word.lower()\n",
    "        word_count+=1\n",
    "        try:\n",
    "            d[word.lower()] += 1\n",
    "        except KeyError:\n",
    "            d[word.lower()] = 1\n",
    "      f.write(line)\n",
    "      f.write(\"\\n\")\n",
    "  f.close()\n",
    "  return d,word_count"
   ]
  },
  {
   "cell_type": "code",
   "execution_count": 10,
   "metadata": {
    "id": "PgWXXrt68jut"
   },
   "outputs": [],
   "source": [
    "def remove_infrequent_words(d,n,xx):\n",
    "  less_freq_word=0\n",
    "  f = open(\"sentence_file.txt\", \"r\")\n",
    "  lines = f.readlines()\n",
    "  no_of_lines = len(lines)\n",
    "\n",
    "  for i in range(no_of_lines):\n",
    "    x=\"\"\n",
    "    words=lines[i].split()\n",
    "    for word in words:\n",
    "      try:\n",
    "        if d[word]>n and d[word]<xx:\n",
    "          x= x + ' ' + word\n",
    "        else :\n",
    "          less_freq_word+=1\n",
    "      except Keyerror:\n",
    "        pass\n",
    "    lines[i] = x + \"\\n\"\n",
    "\n",
    "  f = open(\"sentence_file.txt\", \"w\")\n",
    "  f.writelines(lines)\n",
    "  f.close()\n",
    "  return\n"
   ]
  },
  {
   "cell_type": "markdown",
   "metadata": {
    "id": "4N9UrrsRn1Ci"
   },
   "source": [
    "reviews to good data  - in sentence_file.txt\n",
    "1. just sentences with words..no punctuations\n",
    "2. returns count of total words present\n",
    "3. returns dictionary"
   ]
  },
  {
   "cell_type": "code",
   "execution_count": 11,
   "metadata": {
    "id": "_zUf21yGLwZU"
   },
   "outputs": [],
   "source": [
    "count_dictionary, word_count = raw_text_to_sentences(raw_text)"
   ]
  },
  {
   "cell_type": "code",
   "execution_count": 12,
   "metadata": {
    "id": "FJxgxl1bzZ8c"
   },
   "outputs": [],
   "source": [
    "del raw_text"
   ]
  },
  {
   "cell_type": "code",
   "execution_count": 13,
   "metadata": {
    "id": "GcU5x5i82uoE"
   },
   "outputs": [],
   "source": [
    "d= dict(sorted(count_dictionary.items(), key = itemgetter(1), reverse = True)[:50])\n",
    "xx = min(d.values())"
   ]
  },
  {
   "cell_type": "code",
   "execution_count": 14,
   "metadata": {
    "id": "UqSd_GD96Nvp"
   },
   "outputs": [],
   "source": [
    "del d"
   ]
  },
  {
   "cell_type": "code",
   "execution_count": 15,
   "metadata": {
    "id": "CPmTIP9O8YJi"
   },
   "outputs": [],
   "source": [
    "remove_infrequent_words(count_dictionary,5,xx)"
   ]
  },
  {
   "cell_type": "code",
   "execution_count": 12,
   "metadata": {
    "colab": {
     "base_uri": "https://localhost:8080/"
    },
    "id": "pdKbMaEhy41-",
    "outputId": "8f1620ca-f022-430a-be8f-0fc312703218"
   },
   "outputs": [
    {
     "name": "stdout",
     "output_type": "stream",
     "text": [
      "This is the number of lines in the file\n",
      "10298912\n"
     ]
    }
   ],
   "source": [
    "file = open(\"sentence_file.txt\",\"r\")\n",
    "Counter = 0\n",
    "Content = file.read()\n",
    "CoList = Content.split(\"\\n\")\n",
    "  \n",
    "for i in CoList:\n",
    "    if i:\n",
    "        Counter += 1\n",
    "          \n",
    "print(\"This is the number of lines in the file\")\n",
    "print(Counter)\n",
    "file.close()"
   ]
  },
  {
   "cell_type": "markdown",
   "metadata": {
    "id": "1gqRpbmJOSLB"
   },
   "source": [
    "## CREATING VOCAB"
   ]
  },
  {
   "cell_type": "code",
   "execution_count": 16,
   "metadata": {
    "id": "ScM3zMCnMBC7"
   },
   "outputs": [],
   "source": [
    "f = open(\"sentence_file.txt\", \"r\")\n",
    "lines = f.readlines()\n",
    "f.close()\n",
    "\n",
    "tokenizer = Tokenizer()\n",
    "tokenizer.fit_on_texts(lines) #updating internal vocabulary based on a list of texts.\n",
    "\n",
    "word_to_index = tokenizer.word_index # assigning indexes to words\n",
    "vocab_length = len(word_to_index)\n",
    "\n",
    "index_to_words = {}    # assigning words to indexes\n",
    "for k,v in word_to_index.items():\n",
    "  index_to_words[v] = k"
   ]
  },
  {
   "cell_type": "markdown",
   "metadata": {
    "id": "P0ZYARYpP1Wx"
   },
   "source": [
    "## CREATE SPARSE MATRIX (USED DOK MATRIX)"
   ]
  },
  {
   "cell_type": "code",
   "execution_count": 15,
   "metadata": {
    "id": "Ij1vh5iNYunz"
   },
   "outputs": [],
   "source": [
    "from keras.preprocessing import sequence\n",
    "def create_sparse_matrix(data):\n",
    "  d={}\n",
    "  for line in data:\n",
    "    line = line[:-1]\n",
    "    words=line.split()\n",
    "    no_of_words = len(words)\n",
    "    index=0\n",
    "    for word in words:\n",
    "      k=word_to_index[word]\n",
    "      start = index - 2\n",
    "      end = index + 2\n",
    "      for i in range(start,end+1):\n",
    "        if 0<=i<index or index<i<no_of_words:\n",
    "          try:\n",
    "            d[k,word_to_index[words[i]]]+=1\n",
    "          except KeyError:\n",
    "            d[k,word_to_index[words[i]]] = 1      \n",
    "      index=index+1\n",
    "  return d"
   ]
  },
  {
   "cell_type": "code",
   "execution_count": 16,
   "metadata": {
    "id": "1NI-6N_GPgrI"
   },
   "outputs": [],
   "source": [
    "matrix_dict = create_sparse_matrix(lines)"
   ]
  },
  {
   "cell_type": "code",
   "execution_count": 17,
   "metadata": {
    "id": "bAZ5Hy8D4HPu"
   },
   "outputs": [],
   "source": [
    "del lines"
   ]
  },
  {
   "cell_type": "code",
   "execution_count": 18,
   "metadata": {
    "id": "twqQG_pGjWDS"
   },
   "outputs": [],
   "source": [
    "matrix1 = dok_matrix((vocab_length+1, vocab_length+1))\n",
    "for k,v in matrix_dict.keys():\n",
    "  matrix1[k,v]=matrix_dict[k,v]\n",
    "del matrix_dict"
   ]
  },
  {
   "cell_type": "markdown",
   "metadata": {
    "id": "0O2t5gzplwji"
   },
   "source": [
    "## SVD CALL"
   ]
  },
  {
   "cell_type": "code",
   "execution_count": 19,
   "metadata": {
    "id": "0BXaUDpNd5F1"
   },
   "outputs": [],
   "source": [
    "u, s_matrix, vt_matrix = randomized_svd(matrix1, n_components = 100)"
   ]
  },
  {
   "cell_type": "code",
   "execution_count": 20,
   "metadata": {
    "id": "wcsFfK0siZvs"
   },
   "outputs": [],
   "source": [
    "del s_matrix\n",
    "del vt_matrix"
   ]
  },
  {
   "cell_type": "code",
   "execution_count": 21,
   "metadata": {
    "id": "DtEjYhV4AAHe"
   },
   "outputs": [],
   "source": [
    "loc = '/content/drive/MyDrive/weight_matrix_q1.pkl'\n",
    "with open(loc,'wb') as f:\n",
    " pickle.dump(u, f)"
   ]
  },
  {
   "cell_type": "code",
   "execution_count": 2,
   "metadata": {
    "id": "Lj12-yis5YC_"
   },
   "outputs": [],
   "source": [
    "loc = '/content/drive/MyDrive/weight_matrix_q1.pkl'\n",
    "infile = open(loc,'rb')\n",
    "u = pickle.load(infile)"
   ]
  },
  {
   "cell_type": "markdown",
   "metadata": {
    "id": "56k-UomBmKl9"
   },
   "source": [
    "## COSINE SIMILARITY"
   ]
  },
  {
   "cell_type": "code",
   "execution_count": 3,
   "metadata": {
    "id": "7qJdCPzCnys_"
   },
   "outputs": [],
   "source": [
    "#csine dist for 60th row with other rows..jo top min/max distance - choose that\n",
    "\n",
    "def cosine_similarity(v1,v2):\n",
    "  result = 1 - spatial.distance.cosine(v1, v2)\n",
    "  return result"
   ]
  },
  {
   "cell_type": "markdown",
   "metadata": {
    "id": "TMJJbQrvhM8L"
   },
   "source": [
    "## Display the top-10 word vectors for 5 different words (a combination of nouns, verbs, adjectives etc) using the above pre-trained models (1,2) using t-SNE (or such methods)."
   ]
  },
  {
   "cell_type": "code",
   "execution_count": 4,
   "metadata": {
    "id": "N5lD7cQYhSk0"
   },
   "outputs": [],
   "source": [
    "words = [\"husband\",\"shipping\",\"truck\",\"road\",\"beautiful\"]"
   ]
  },
  {
   "cell_type": "code",
   "execution_count": 20,
   "metadata": {
    "colab": {
     "base_uri": "https://localhost:8080/",
     "height": 490
    },
    "id": "sNj5cvwOsMV_",
    "outputId": "daf54135-e478-4540-ac6a-5a918ab66884"
   },
   "outputs": [
    {
     "name": "stdout",
     "output_type": "stream",
     "text": [
      "Top 10 closest words for : husband\n",
      "wife\n",
      "girlfriend\n",
      "boyfriend\n",
      "fiancee\n",
      "hubby\n",
      "fiance\n",
      "mom\n",
      "dad\n",
      "sister\n",
      "father\n",
      "---------------------------------------\n",
      "\n"
     ]
    },
    {
     "data": {
      "image/png": "[encoded data removed]",
      "text/plain": [
       "<Figure size 432x288 with 1 Axes>"
      ]
     },
     "metadata": {
      "needs_background": "light"
     },
     "output_type": "display_data"
    }
   ],
   "source": [
    "word = \"husband\"\n",
    "dist_matrix={}\n",
    "x=word_to_index[word]\n",
    "dist_matrix[x]=0\n",
    "\n",
    "embedings=[]\n",
    "top_words=[]\n",
    "for i in range(1,70685):  \n",
    "  if i!=x:\n",
    "    dist_matrix[i] = cosine_similarity(u[i],u[x])\n",
    "\n",
    "TenHighest = nlargest(10, dist_matrix, key = dist_matrix.get)\n",
    "print(\"Top 10 closest words for : \", end = word)\n",
    "print()\n",
    "for val in TenHighest:\n",
    "  print(index_to_words[val])\n",
    "  embedings.append(u[val])\n",
    "  top_words.append(index_to_words[val])\n",
    "print(\"---------------------------------------\")\n",
    "print()\n",
    "tsne=TSNE()\n",
    "tsne_list =tsne.fit_transform(embedings)\n",
    "#plotting tsne graph\n",
    "\n",
    "x_coord , y_coord = [] , []\n",
    "\n",
    "tsne_list_size = len(tsne_list) \n",
    "for i in range(0,tsne_list_size):\n",
    "  x_coord.append(tsne_list[i][0])\n",
    "  y_coord.append(tsne_list[i][1])\n",
    "plt.scatter(x_coord, y_coord, c =\"green\")\n",
    "\n",
    "for i in range(0,tsne_list_size):\n",
    "  plt.annotate(top_words[i], (x_coord[i]+6,y_coord[i]+6))"
   ]
  },
  {
   "cell_type": "code",
   "execution_count": 19,
   "metadata": {
    "colab": {
     "base_uri": "https://localhost:8080/",
     "height": 491
    },
    "id": "mGJM8o1aXG99",
    "outputId": "a0421920-ddd5-4e1b-bb3d-119cbb3973f6"
   },
   "outputs": [
    {
     "name": "stdout",
     "output_type": "stream",
     "text": [
      "Top 10 closest words for : shipping\n",
      "tax\n",
      "delivery\n",
      "shipment\n",
      "supersaver\n",
      "eligible\n",
      "expedited\n",
      "manufacturerpayment\n",
      "membership\n",
      "mear\n",
      "delievery\n",
      "---------------------------------------\n",
      "\n"
     ]
    },
    {
     "data": {
      "image/png": "[encoded data removed]",
      "text/plain": [
       "<Figure size 432x288 with 1 Axes>"
      ]
     },
     "metadata": {
      "needs_background": "light"
     },
     "output_type": "display_data"
    }
   ],
   "source": [
    "word = \"shipping\"\n",
    "dist_matrix={}\n",
    "x=word_to_index[word]\n",
    "dist_matrix[x]=0\n",
    "\n",
    "embedings=[]\n",
    "top_words=[]\n",
    "for i in range(1,70685):  \n",
    "  if i!=x:\n",
    "    dist_matrix[i] = cosine_similarity(u[i],u[x])\n",
    "\n",
    "TenHighest = nlargest(10, dist_matrix, key = dist_matrix.get)\n",
    "print(\"Top 10 closest words for : \", end = word)\n",
    "print()\n",
    "for val in TenHighest:\n",
    "  print(index_to_words[val])\n",
    "  embedings.append(u[val])\n",
    "  top_words.append(index_to_words[val])\n",
    "print(\"---------------------------------------\")\n",
    "print()\n",
    "tsne=TSNE()\n",
    "tsne_list =tsne.fit_transform(embedings)\n",
    "#plotting tsne graph\n",
    "\n",
    "x_coord , y_coord = [] , []\n",
    "\n",
    "tsne_list_size = len(tsne_list) \n",
    "for i in range(0,tsne_list_size):\n",
    "  x_coord.append(tsne_list[i][0])\n",
    "  y_coord.append(tsne_list[i][1])\n",
    "plt.scatter(x_coord, y_coord, c =\"green\")\n",
    "\n",
    "for i in range(0,tsne_list_size):\n",
    "  plt.annotate(top_words[i], (x_coord[i]+6,y_coord[i]+6))"
   ]
  },
  {
   "cell_type": "code",
   "execution_count": 21,
   "metadata": {
    "colab": {
     "base_uri": "https://localhost:8080/",
     "height": 488
    },
    "id": "tmerhnJEXIIz",
    "outputId": "9e4de59d-c889-4a4c-d03a-541400a4975e"
   },
   "outputs": [
    {
     "name": "stdout",
     "output_type": "stream",
     "text": [
      "Top 10 closest words for : truck\n",
      "van\n",
      "minivan\n",
      "suv\n",
      "garage\n",
      "dog\n",
      "dash\n",
      "boat\n",
      "jeep\n",
      "motorcycle\n",
      "bike\n",
      "---------------------------------------\n",
      "\n"
     ]
    },
    {
     "data": {
      "image/png": "[encoded data removed]",
      "text/plain": [
       "<Figure size 432x288 with 1 Axes>"
      ]
     },
     "metadata": {
      "needs_background": "light"
     },
     "output_type": "display_data"
    }
   ],
   "source": [
    "word = \"truck\"\n",
    "dist_matrix={}\n",
    "x=word_to_index[word]\n",
    "dist_matrix[x]=0\n",
    "\n",
    "embedings=[]\n",
    "top_words=[]\n",
    "for i in range(1,70685):  \n",
    "  if i!=x:\n",
    "    dist_matrix[i] = cosine_similarity(u[i],u[x])\n",
    "\n",
    "TenHighest = nlargest(10, dist_matrix, key = dist_matrix.get)\n",
    "print(\"Top 10 closest words for : \", end = word)\n",
    "print()\n",
    "for val in TenHighest:\n",
    "  print(index_to_words[val])\n",
    "  embedings.append(u[val])\n",
    "  top_words.append(index_to_words[val])\n",
    "print(\"---------------------------------------\")\n",
    "print()\n",
    "tsne=TSNE()\n",
    "tsne_list =tsne.fit_transform(embedings)\n",
    "#plotting tsne graph\n",
    "\n",
    "x_coord , y_coord = [] , []\n",
    "\n",
    "tsne_list_size = len(tsne_list) \n",
    "for i in range(0,tsne_list_size):\n",
    "  x_coord.append(tsne_list[i][0])\n",
    "  y_coord.append(tsne_list[i][1])\n",
    "plt.scatter(x_coord, y_coord, c =\"green\")\n",
    "\n",
    "for i in range(0,tsne_list_size):\n",
    "  plt.annotate(top_words[i], (x_coord[i]+6,y_coord[i]+6))"
   ]
  },
  {
   "cell_type": "code",
   "execution_count": 22,
   "metadata": {
    "colab": {
     "base_uri": "https://localhost:8080/",
     "height": 487
    },
    "id": "Fs3ATiZHXIos",
    "outputId": "290800e5-02ed-440c-a2f9-ec8790d1aa6a"
   },
   "outputs": [
    {
     "name": "stdout",
     "output_type": "stream",
     "text": [
      "Top 10 closest words for : road\n",
      "highway\n",
      "interstate\n",
      "freeway\n",
      "bouncing\n",
      "goofing\n",
      "bounced\n",
      "flying\n",
      "shutting\n",
      "skidding\n",
      "ramp\n",
      "---------------------------------------\n",
      "\n"
     ]
    },
    {
     "data": {
      "image/png": "[encoded data removed]",
      "text/plain": [
       "<Figure size 432x288 with 1 Axes>"
      ]
     },
     "metadata": {
      "needs_background": "light"
     },
     "output_type": "display_data"
    }
   ],
   "source": [
    "word = \"road\"\n",
    "dist_matrix={}\n",
    "x=word_to_index[word]\n",
    "dist_matrix[x]=0\n",
    "\n",
    "embedings=[]\n",
    "top_words=[]\n",
    "for i in range(1,70685):  \n",
    "  if i!=x:\n",
    "    dist_matrix[i] = cosine_similarity(u[i],u[x])\n",
    "\n",
    "TenHighest = nlargest(10, dist_matrix, key = dist_matrix.get)\n",
    "print(\"Top 10 closest words for : \", end = word)\n",
    "print()\n",
    "for val in TenHighest:\n",
    "  print(index_to_words[val])\n",
    "  embedings.append(u[val])\n",
    "  top_words.append(index_to_words[val])\n",
    "print(\"---------------------------------------\")\n",
    "print()\n",
    "tsne=TSNE()\n",
    "tsne_list =tsne.fit_transform(embedings)\n",
    "#plotting tsne graph\n",
    "\n",
    "x_coord , y_coord = [] , []\n",
    "\n",
    "tsne_list_size = len(tsne_list) \n",
    "for i in range(0,tsne_list_size):\n",
    "  x_coord.append(tsne_list[i][0])\n",
    "  y_coord.append(tsne_list[i][1])\n",
    "plt.scatter(x_coord, y_coord, c =\"green\")\n",
    "\n",
    "for i in range(0,tsne_list_size):\n",
    "  plt.annotate(top_words[i], (x_coord[i]+6,y_coord[i]+6))"
   ]
  },
  {
   "cell_type": "code",
   "execution_count": 23,
   "metadata": {
    "colab": {
     "base_uri": "https://localhost:8080/",
     "height": 487
    },
    "id": "NOmCOQ25XJLu",
    "outputId": "00cd18ab-4284-44b6-ab72-79d0c30be7a9"
   },
   "outputs": [
    {
     "name": "stdout",
     "output_type": "stream",
     "text": [
      "Top 10 closest words for : beautiful\n",
      "gorgeous\n",
      "brilliant\n",
      "lovely\n",
      "matted\n",
      "beatiful\n",
      "vivid\n",
      "colorful\n",
      "vibrant\n",
      "vibrancy\n",
      "stunning\n",
      "---------------------------------------\n",
      "\n"
     ]
    },
    {
     "data": {
      "image/png": "[encoded data removed]",
      "text/plain": [
       "<Figure size 432x288 with 1 Axes>"
      ]
     },
     "metadata": {
      "needs_background": "light"
     },
     "output_type": "display_data"
    }
   ],
   "source": [
    "word = \"beautiful\"\n",
    "dist_matrix={}\n",
    "x=word_to_index[word]\n",
    "dist_matrix[x]=0\n",
    "\n",
    "embedings=[]\n",
    "top_words=[]\n",
    "for i in range(1,70685):  \n",
    "  if i!=x:\n",
    "    dist_matrix[i] = cosine_similarity(u[i],u[x])\n",
    "\n",
    "TenHighest = nlargest(10, dist_matrix, key = dist_matrix.get)\n",
    "print(\"Top 10 closest words for : \", end = word)\n",
    "print()\n",
    "for val in TenHighest:\n",
    "  print(index_to_words[val])\n",
    "  embedings.append(u[val])\n",
    "  top_words.append(index_to_words[val])\n",
    "print(\"---------------------------------------\")\n",
    "print()\n",
    "tsne=TSNE()\n",
    "tsne_list =tsne.fit_transform(embedings)\n",
    "#plotting tsne graph\n",
    "\n",
    "x_coord , y_coord = [] , []\n",
    "\n",
    "tsne_list_size = len(tsne_list) \n",
    "for i in range(0,tsne_list_size):\n",
    "  x_coord.append(tsne_list[i][0])\n",
    "  y_coord.append(tsne_list[i][1])\n",
    "plt.scatter(x_coord, y_coord, c =\"green\")\n",
    "\n",
    "for i in range(0,tsne_list_size):\n",
    "  plt.annotate(top_words[i], (x_coord[i]+6,y_coord[i]+6))"
   ]
  },
  {
   "cell_type": "markdown",
   "metadata": {
    "id": "H9Q8G9tghOQX"
   },
   "source": [
    "What are the top 10 closest words for the word ‘camera’ in the embeddings gen-\n",
    "erated by your program. Compare them against the pre-trained word2vec embed-\n",
    "dings that you can download off the shelf (can use gensim)."
   ]
  },
  {
   "cell_type": "code",
   "execution_count": 24,
   "metadata": {
    "colab": {
     "base_uri": "https://localhost:8080/"
    },
    "id": "obPwuncUzJ-t",
    "outputId": "ca2376d0-d448-400d-f163-1cad0f5cf59b"
   },
   "outputs": [
    {
     "name": "stdout",
     "output_type": "stream",
     "text": [
      "Top 10 closest words for 'camera' :\n",
      "camerasto\n",
      "camerasfor\n",
      "camerasand\n",
      "camerason\n",
      "camara\n",
      "cameraswhich\n",
      "mywestern\n",
      "camerasi\n",
      "thewestern\n",
      "btar\n"
     ]
    }
   ],
   "source": [
    "dist_matrix={}\n",
    "x=word_to_index['camera']\n",
    "dist_matrix[x]=0\n",
    "\n",
    "for i in range(1,70685):  \n",
    "  if i!=x:\n",
    "    dist_matrix[i] = cosine_similarity(u[i],u[x])\n",
    "\n",
    "from heapq import nlargest\n",
    "TenHighest = nlargest(10, dist_matrix, key = dist_matrix.get)\n",
    "print(\"Top 10 closest words for 'camera' :\")\n",
    "for val in TenHighest:\n",
    "    #print(val)\n",
    "    print(index_to_words[val])"
   ]
  },
  {
   "cell_type": "code",
   "execution_count": null,
   "metadata": {
    "colab": {
     "base_uri": "https://localhost:8080/"
    },
    "id": "pyZb8MphuEkJ",
    "outputId": "35ce96b4-edd9-41dc-cbd0-363079656a95"
   },
   "outputs": [
    {
     "name": "stdout",
     "output_type": "stream",
     "text": [
      "[==================================================] 100.0% 1662.8/1662.8MB downloaded\n"
     ]
    }
   ],
   "source": [
    "\n",
    "word2vec_vectors = gensim.downloader.load('word2vec-google-news-300')\n",
    "word2vec_vectors.most_similar('camera')"
   ]
  },
  {
   "cell_type": "code",
   "execution_count": null,
   "metadata": {
    "colab": {
     "base_uri": "https://localhost:8080/"
    },
    "id": "jXUjSqKa6lvg",
    "outputId": "4c9cccc1-b94e-47cb-f856-52721ad4a9df"
   },
   "outputs": [
    {
     "data": {
      "text/plain": [
       "[('cameras', 0.8131939172744751),\n",
       " ('Wagging_finger', 0.7311819791793823),\n",
       " ('camera_lens', 0.7250816822052002),\n",
       " ('camcorder', 0.7037474513053894),\n",
       " ('Camera', 0.6848659515380859),\n",
       " ('Canon_digital_SLR', 0.6474252939224243),\n",
       " ('Cameras', 0.6350969076156616),\n",
       " ('Nikon_D####_digital_SLR', 0.6259366273880005),\n",
       " ('tripod', 0.6189837455749512),\n",
       " ('EyeToy_USB', 0.6173486709594727)]"
      ]
     },
     "execution_count": 2,
     "metadata": {},
     "output_type": "execute_result"
    }
   ],
   "source": [
    "word2vec_vectors.most_similar('camera')"
   ]
  },
  {
   "cell_type": "markdown",
   "metadata": {
    "id": "TfodCGntWM1L"
   },
   "source": [
    "comparison btw the two : the words are not the same, but the words predicted by word emebedding model using svd still returns words similar to the target word \"camera\""
   ]
  }
 ],
 "metadata": {
  "colab": {
   "collapsed_sections": [],
   "name": "Word Embedding using SVD.ipynb",
   "provenance": []
  },
  "kernelspec": {
   "display_name": "Python 3",
   "language": "python",
   "name": "python3"
  },
  "language_info": {
   "codemirror_mode": {
    "name": "ipython",
    "version": 3
   },
   "file_extension": ".py",
   "mimetype": "text/x-python",
   "name": "python",
   "nbconvert_exporter": "python",
   "pygments_lexer": "ipython3",
   "version": "3.8.10"
  }
 },
 "nbformat": 4,
 "nbformat_minor": 1
}
